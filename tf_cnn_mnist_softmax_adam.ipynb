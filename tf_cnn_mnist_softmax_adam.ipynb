{
  "nbformat": 4,
  "nbformat_minor": 0,
  "metadata": {
    "colab": {
      "name": "tf_cnn_mnist_softmax_adam.ipynb",
      "version": "0.3.2",
      "provenance": [],
      "collapsed_sections": [],
      "include_colab_link": true
    },
    "kernelspec": {
      "name": "python3",
      "display_name": "Python 3"
    },
    "accelerator": "GPU"
  },
  "cells": [
    {
      "cell_type": "markdown",
      "metadata": {
        "id": "view-in-github",
        "colab_type": "text"
      },
      "source": [
        "[View in Colaboratory](https://colab.research.google.com/github/udithv/DeepLearning/blob/master/tf_cnn_mnist_softmax_adam.ipynb)"
      ]
    },
    {
      "metadata": {
        "id": "4iutrsUq2I5Z",
        "colab_type": "code",
        "colab": {}
      },
      "cell_type": "code",
      "source": [
        "import tensorflow as tf"
      ],
      "execution_count": 0,
      "outputs": []
    },
    {
      "metadata": {
        "id": "NlI5QHgk2hT0",
        "colab_type": "code",
        "colab": {}
      },
      "cell_type": "code",
      "source": [
        "from tensorflow.examples.tutorials.mnist import input_data"
      ],
      "execution_count": 0,
      "outputs": []
    },
    {
      "metadata": {
        "id": "q0cDE7lb3MP_",
        "colab_type": "code",
        "colab": {
          "base_uri": "https://localhost:8080/",
          "height": 530
        },
        "outputId": "17302d70-a160-442b-e875-64679942414f"
      },
      "cell_type": "code",
      "source": [
        "mnist = input_data.read_data_sets(\"MNIST_data/\", one_hot=True)"
      ],
      "execution_count": 3,
      "outputs": [
        {
          "output_type": "stream",
          "text": [
            "WARNING:tensorflow:From <ipython-input-3-a839aeb82f4b>:1: read_data_sets (from tensorflow.contrib.learn.python.learn.datasets.mnist) is deprecated and will be removed in a future version.\n",
            "Instructions for updating:\n",
            "Please use alternatives such as official/mnist/dataset.py from tensorflow/models.\n",
            "WARNING:tensorflow:From /usr/local/lib/python3.6/dist-packages/tensorflow/contrib/learn/python/learn/datasets/mnist.py:260: maybe_download (from tensorflow.contrib.learn.python.learn.datasets.base) is deprecated and will be removed in a future version.\n",
            "Instructions for updating:\n",
            "Please write your own downloading logic.\n",
            "WARNING:tensorflow:From /usr/local/lib/python3.6/dist-packages/tensorflow/contrib/learn/python/learn/datasets/base.py:252: _internal_retry.<locals>.wrap.<locals>.wrapped_fn (from tensorflow.contrib.learn.python.learn.datasets.base) is deprecated and will be removed in a future version.\n",
            "Instructions for updating:\n",
            "Please use urllib or similar directly.\n",
            "Successfully downloaded train-images-idx3-ubyte.gz 9912422 bytes.\n",
            "WARNING:tensorflow:From /usr/local/lib/python3.6/dist-packages/tensorflow/contrib/learn/python/learn/datasets/mnist.py:262: extract_images (from tensorflow.contrib.learn.python.learn.datasets.mnist) is deprecated and will be removed in a future version.\n",
            "Instructions for updating:\n",
            "Please use tf.data to implement this functionality.\n",
            "Extracting MNIST_data/train-images-idx3-ubyte.gz\n",
            "Successfully downloaded train-labels-idx1-ubyte.gz 28881 bytes.\n",
            "WARNING:tensorflow:From /usr/local/lib/python3.6/dist-packages/tensorflow/contrib/learn/python/learn/datasets/mnist.py:267: extract_labels (from tensorflow.contrib.learn.python.learn.datasets.mnist) is deprecated and will be removed in a future version.\n",
            "Instructions for updating:\n",
            "Please use tf.data to implement this functionality.\n",
            "Extracting MNIST_data/train-labels-idx1-ubyte.gz\n",
            "WARNING:tensorflow:From /usr/local/lib/python3.6/dist-packages/tensorflow/contrib/learn/python/learn/datasets/mnist.py:110: dense_to_one_hot (from tensorflow.contrib.learn.python.learn.datasets.mnist) is deprecated and will be removed in a future version.\n",
            "Instructions for updating:\n",
            "Please use tf.one_hot on tensors.\n",
            "Successfully downloaded t10k-images-idx3-ubyte.gz 1648877 bytes.\n",
            "Extracting MNIST_data/t10k-images-idx3-ubyte.gz\n",
            "Successfully downloaded t10k-labels-idx1-ubyte.gz 4542 bytes.\n",
            "Extracting MNIST_data/t10k-labels-idx1-ubyte.gz\n",
            "WARNING:tensorflow:From /usr/local/lib/python3.6/dist-packages/tensorflow/contrib/learn/python/learn/datasets/mnist.py:290: DataSet.__init__ (from tensorflow.contrib.learn.python.learn.datasets.mnist) is deprecated and will be removed in a future version.\n",
            "Instructions for updating:\n",
            "Please use alternatives such as official/mnist/dataset.py from tensorflow/models.\n"
          ],
          "name": "stdout"
        }
      ]
    },
    {
      "metadata": {
        "id": "CYtU-ORR3-GA",
        "colab_type": "code",
        "colab": {}
      },
      "cell_type": "code",
      "source": [
        "# HELPER FUNCTIONS\n",
        "\n",
        "\n",
        "# INIT WEIGHTS\n",
        "\n",
        "def init_weights(shape):\n",
        "  init_random_dist = tf.truncated_normal(shape, stddev=0.1)\n",
        "  return tf.Variable(init_random_dist)"
      ],
      "execution_count": 0,
      "outputs": []
    },
    {
      "metadata": {
        "id": "ITVKqZslW_9G",
        "colab_type": "code",
        "colab": {
          "base_uri": "https://localhost:8080/",
          "height": 51
        },
        "outputId": "bf3b058e-5d76-4c8d-88f1-d30d857d277c"
      },
      "cell_type": "code",
      "source": [
        "with tf.Session() as sess:\n",
        "  print(sess.run(tf.constant(0.1, shape=[2,2])))"
      ],
      "execution_count": 5,
      "outputs": [
        {
          "output_type": "stream",
          "text": [
            "[[0.1 0.1]\n",
            " [0.1 0.1]]\n"
          ],
          "name": "stdout"
        }
      ]
    },
    {
      "metadata": {
        "id": "dbDEOaeK4rgV",
        "colab_type": "code",
        "colab": {}
      },
      "cell_type": "code",
      "source": [
        "# INIT BIAS\n",
        "\n",
        "def init_bias(shape):\n",
        "  init_bias_vals = tf.constant(0.1, shape=shape)\n",
        "  return tf.Variable(init_bias_vals)\n"
      ],
      "execution_count": 0,
      "outputs": []
    },
    {
      "metadata": {
        "id": "OvYV-KIu49wx",
        "colab_type": "code",
        "colab": {}
      },
      "cell_type": "code",
      "source": [
        "# CONV 2D\n",
        "\n",
        "def conv2d(x, W):\n",
        "  # x --> [batch, H,W, Channels]\n",
        "  #W --> [filter H, filter W, Channels IN, Channels OUT]\n",
        "  \n",
        "  return tf.nn.conv2d(x, W, strides=[1, 1, 1, 1], padding='SAME')"
      ],
      "execution_count": 0,
      "outputs": []
    },
    {
      "metadata": {
        "id": "4TNRD0Ft5s2x",
        "colab_type": "code",
        "colab": {}
      },
      "cell_type": "code",
      "source": [
        "# POLLING\n",
        "\n",
        "def max_pool_2by2(x):\n",
        "  # x --> [batch, H, W, Channels]\n",
        "  return tf.nn.max_pool(x, ksize=[1, 2, 2, 1], strides=[1, 2, 2, 1], padding='SAME')"
      ],
      "execution_count": 0,
      "outputs": []
    },
    {
      "metadata": {
        "id": "PQ8xn0ec6VPQ",
        "colab_type": "code",
        "colab": {}
      },
      "cell_type": "code",
      "source": [
        "# CONVOLUTIONAL LAYER\n",
        "def convolutional_layer(input_x, shape):\n",
        "  W = init_weights(shape)\n",
        "  b = init_bias([shape[3]])\n",
        "  return tf.nn.relu(conv2d(input_x, W)+b)"
      ],
      "execution_count": 0,
      "outputs": []
    },
    {
      "metadata": {
        "id": "jY64GDV1636U",
        "colab_type": "code",
        "colab": {}
      },
      "cell_type": "code",
      "source": [
        "# NORMAL LAYER (FULLY CONNECTED)\n",
        "\n",
        "def normal_full_layer(input_layer, size):\n",
        "  input_size = int(input_layer.get_shape()[1])\n",
        "  W = init_weights([input_size, size])\n",
        "  b = init_bias([size])\n",
        "  return tf.matmul(input_layer, W) + b"
      ],
      "execution_count": 0,
      "outputs": []
    },
    {
      "metadata": {
        "id": "vE6-u-Gr7Y2x",
        "colab_type": "code",
        "colab": {}
      },
      "cell_type": "code",
      "source": [
        "# PLACEHOLDERS\n",
        "\n",
        "x = tf.placeholder(tf.float32, shape=[None, 784])\n"
      ],
      "execution_count": 0,
      "outputs": []
    },
    {
      "metadata": {
        "id": "0FiLDsHX7wYw",
        "colab_type": "code",
        "colab": {}
      },
      "cell_type": "code",
      "source": [
        "y_true = tf.placeholder(tf.float32, shape=[None, 10])\n"
      ],
      "execution_count": 0,
      "outputs": []
    },
    {
      "metadata": {
        "id": "V_LlDAFm74Cm",
        "colab_type": "code",
        "colab": {}
      },
      "cell_type": "code",
      "source": [
        "# LAYERS\n",
        "\n",
        "x_image = tf.reshape(x, [-1, 28, 28, 1])"
      ],
      "execution_count": 0,
      "outputs": []
    },
    {
      "metadata": {
        "id": "0IYh5avZ8EEI",
        "colab_type": "code",
        "colab": {}
      },
      "cell_type": "code",
      "source": [
        "convo_1 = convolutional_layer(x_image, shape=[5, 5, 1, 32])\n",
        "convo_1_pooling = max_pool_2by2(convo_1)"
      ],
      "execution_count": 0,
      "outputs": []
    },
    {
      "metadata": {
        "id": "Qcf4864P8eDF",
        "colab_type": "code",
        "colab": {}
      },
      "cell_type": "code",
      "source": [
        "convo_2 = convolutional_layer(convo_1_pooling, shape=[5, 5, 32, 64])\n",
        "convo_2_pooling = max_pool_2by2(convo_2)\n",
        "\n"
      ],
      "execution_count": 0,
      "outputs": []
    },
    {
      "metadata": {
        "id": "lQHfBT4Q8v8b",
        "colab_type": "code",
        "colab": {}
      },
      "cell_type": "code",
      "source": [
        "convo_2_flat = tf.reshape(convo_2_pooling, [-1, 7*7*64])\n",
        "full_layer_one = tf.nn.relu(normal_full_layer(convo_2_flat, 1024))"
      ],
      "execution_count": 0,
      "outputs": []
    },
    {
      "metadata": {
        "id": "ZErQIjHt9E7Y",
        "colab_type": "code",
        "colab": {}
      },
      "cell_type": "code",
      "source": [
        "# DROPOUT\n",
        "\n",
        "hold_prob = tf.placeholder(tf.float32)\n",
        "full_one_dropout = tf.nn.dropout(full_layer_one, keep_prob=hold_prob)"
      ],
      "execution_count": 0,
      "outputs": []
    },
    {
      "metadata": {
        "id": "GqQ5wKmi9V34",
        "colab_type": "code",
        "colab": {}
      },
      "cell_type": "code",
      "source": [
        "y_pred = normal_full_layer(full_one_dropout, 10)"
      ],
      "execution_count": 0,
      "outputs": []
    },
    {
      "metadata": {
        "id": "CEedngSB9auQ",
        "colab_type": "code",
        "colab": {
          "base_uri": "https://localhost:8080/",
          "height": 173
        },
        "outputId": "2d47f039-9eb4-4cf9-d145-d5039f0bb75d"
      },
      "cell_type": "code",
      "source": [
        "# LOSS FUNCTION\n",
        "\n",
        "cross_entropy = tf.reduce_mean(tf.nn.softmax_cross_entropy_with_logits(labels=y_true, logits=y_pred))"
      ],
      "execution_count": 19,
      "outputs": [
        {
          "output_type": "stream",
          "text": [
            "WARNING:tensorflow:From <ipython-input-19-07e5f0685365>:2: softmax_cross_entropy_with_logits (from tensorflow.python.ops.nn_ops) is deprecated and will be removed in a future version.\n",
            "Instructions for updating:\n",
            "\n",
            "Future major versions of TensorFlow will allow gradients to flow\n",
            "into the labels input on backprop by default.\n",
            "\n",
            "See `tf.nn.softmax_cross_entropy_with_logits_v2`.\n",
            "\n"
          ],
          "name": "stdout"
        }
      ]
    },
    {
      "metadata": {
        "id": "0LUVI4FX97jh",
        "colab_type": "code",
        "colab": {}
      },
      "cell_type": "code",
      "source": [
        "# OPTIMIZER \n",
        "optimizer = tf.train.AdamOptimizer(learning_rate=0.001)\n",
        "train = optimizer.minimize(cross_entropy)"
      ],
      "execution_count": 0,
      "outputs": []
    },
    {
      "metadata": {
        "id": "LG5VIANy-OlV",
        "colab_type": "code",
        "colab": {}
      },
      "cell_type": "code",
      "source": [
        "init = tf.global_variables_initializer()"
      ],
      "execution_count": 0,
      "outputs": []
    },
    {
      "metadata": {
        "id": "_COhE4DS-WQ0",
        "colab_type": "code",
        "colab": {
          "base_uri": "https://localhost:8080/",
          "height": 4267
        },
        "outputId": "6b1b4f53-1613-474c-d7c3-e645b6405de5"
      },
      "cell_type": "code",
      "source": [
        "\n",
        "\n",
        "with tf.Session() as sess:\n",
        "  \n",
        "  sess.run(init)\n",
        "  \n",
        "  for i in range(5000):\n",
        "    \n",
        "    batch_x, batch_y = mnist.train.next_batch(50)\n",
        "    \n",
        "    sess.run(train, feed_dict={x: batch_x, y_true: batch_y, hold_prob: 0.5})\n",
        "    \n",
        "    if i % 100 == 0:\n",
        "      \n",
        "      print(\"ON STEP: {}\".format(i))\n",
        "      print(\"ACCURACY: \")\n",
        "      matches = tf.equal(tf.argmax(y_pred, 1), tf.argmax(y_true, 1))\n",
        "      \n",
        "      acc = tf.reduce_mean(tf.cast(matches, tf.float32))\n",
        "      \n",
        "      \n",
        "      print(sess.run(acc, feed_dict={x:mnist.test.images, y_true:mnist.test.labels, hold_prob: 1.0}))\n",
        "      print('\\n')"
      ],
      "execution_count": 23,
      "outputs": [
        {
          "output_type": "stream",
          "text": [
            "ON STEP: 0\n",
            "ACCURACY: \n",
            "0.1602\n",
            "\n",
            "\n",
            "ON STEP: 100\n",
            "ACCURACY: \n",
            "0.9415\n",
            "\n",
            "\n",
            "ON STEP: 200\n",
            "ACCURACY: \n",
            "0.9617\n",
            "\n",
            "\n",
            "ON STEP: 300\n",
            "ACCURACY: \n",
            "0.9704\n",
            "\n",
            "\n",
            "ON STEP: 400\n",
            "ACCURACY: \n",
            "0.9696\n",
            "\n",
            "\n",
            "ON STEP: 500\n",
            "ACCURACY: \n",
            "0.9743\n",
            "\n",
            "\n",
            "ON STEP: 600\n",
            "ACCURACY: \n",
            "0.9755\n",
            "\n",
            "\n",
            "ON STEP: 700\n",
            "ACCURACY: \n",
            "0.9796\n",
            "\n",
            "\n",
            "ON STEP: 800\n",
            "ACCURACY: \n",
            "0.9786\n",
            "\n",
            "\n",
            "ON STEP: 900\n",
            "ACCURACY: \n",
            "0.9819\n",
            "\n",
            "\n",
            "ON STEP: 1000\n",
            "ACCURACY: \n",
            "0.9827\n",
            "\n",
            "\n",
            "ON STEP: 1100\n",
            "ACCURACY: \n",
            "0.9849\n",
            "\n",
            "\n",
            "ON STEP: 1200\n",
            "ACCURACY: \n",
            "0.9849\n",
            "\n",
            "\n",
            "ON STEP: 1300\n",
            "ACCURACY: \n",
            "0.9857\n",
            "\n",
            "\n",
            "ON STEP: 1400\n",
            "ACCURACY: \n",
            "0.981\n",
            "\n",
            "\n",
            "ON STEP: 1500\n",
            "ACCURACY: \n",
            "0.9876\n",
            "\n",
            "\n",
            "ON STEP: 1600\n",
            "ACCURACY: \n",
            "0.9828\n",
            "\n",
            "\n",
            "ON STEP: 1700\n",
            "ACCURACY: \n",
            "0.9884\n",
            "\n",
            "\n",
            "ON STEP: 1800\n",
            "ACCURACY: \n",
            "0.9873\n",
            "\n",
            "\n",
            "ON STEP: 1900\n",
            "ACCURACY: \n",
            "0.9891\n",
            "\n",
            "\n",
            "ON STEP: 2000\n",
            "ACCURACY: \n",
            "0.9845\n",
            "\n",
            "\n",
            "ON STEP: 2100\n",
            "ACCURACY: \n",
            "0.9873\n",
            "\n",
            "\n",
            "ON STEP: 2200\n",
            "ACCURACY: \n",
            "0.9893\n",
            "\n",
            "\n",
            "ON STEP: 2300\n",
            "ACCURACY: \n",
            "0.9877\n",
            "\n",
            "\n",
            "ON STEP: 2400\n",
            "ACCURACY: \n",
            "0.9882\n",
            "\n",
            "\n",
            "ON STEP: 2500\n",
            "ACCURACY: \n",
            "0.9885\n",
            "\n",
            "\n",
            "ON STEP: 2600\n",
            "ACCURACY: \n",
            "0.9885\n",
            "\n",
            "\n",
            "ON STEP: 2700\n",
            "ACCURACY: \n",
            "0.9865\n",
            "\n",
            "\n",
            "ON STEP: 2800\n",
            "ACCURACY: \n",
            "0.9887\n",
            "\n",
            "\n",
            "ON STEP: 2900\n",
            "ACCURACY: \n",
            "0.9855\n",
            "\n",
            "\n",
            "ON STEP: 3000\n",
            "ACCURACY: \n",
            "0.9898\n",
            "\n",
            "\n",
            "ON STEP: 3100\n",
            "ACCURACY: \n",
            "0.9907\n",
            "\n",
            "\n",
            "ON STEP: 3200\n",
            "ACCURACY: \n",
            "0.9906\n",
            "\n",
            "\n",
            "ON STEP: 3300\n",
            "ACCURACY: \n",
            "0.9889\n",
            "\n",
            "\n",
            "ON STEP: 3400\n",
            "ACCURACY: \n",
            "0.9874\n",
            "\n",
            "\n",
            "ON STEP: 3500\n",
            "ACCURACY: \n",
            "0.9893\n",
            "\n",
            "\n",
            "ON STEP: 3600\n",
            "ACCURACY: \n",
            "0.9905\n",
            "\n",
            "\n",
            "ON STEP: 3700\n",
            "ACCURACY: \n",
            "0.9876\n",
            "\n",
            "\n",
            "ON STEP: 3800\n",
            "ACCURACY: \n",
            "0.9882\n",
            "\n",
            "\n",
            "ON STEP: 3900\n",
            "ACCURACY: \n",
            "0.9899\n",
            "\n",
            "\n",
            "ON STEP: 4000\n",
            "ACCURACY: \n",
            "0.9891\n",
            "\n",
            "\n",
            "ON STEP: 4100\n",
            "ACCURACY: \n",
            "0.9894\n",
            "\n",
            "\n",
            "ON STEP: 4200\n",
            "ACCURACY: \n",
            "0.9906\n",
            "\n",
            "\n",
            "ON STEP: 4300\n",
            "ACCURACY: \n",
            "0.9909\n",
            "\n",
            "\n",
            "ON STEP: 4400\n",
            "ACCURACY: \n",
            "0.9888\n",
            "\n",
            "\n",
            "ON STEP: 4500\n",
            "ACCURACY: \n",
            "0.9917\n",
            "\n",
            "\n",
            "ON STEP: 4600\n",
            "ACCURACY: \n",
            "0.9912\n",
            "\n",
            "\n",
            "ON STEP: 4700\n",
            "ACCURACY: \n",
            "0.9904\n",
            "\n",
            "\n",
            "ON STEP: 4800\n",
            "ACCURACY: \n",
            "0.9909\n",
            "\n",
            "\n",
            "ON STEP: 4900\n",
            "ACCURACY: \n",
            "0.9913\n",
            "\n",
            "\n"
          ],
          "name": "stdout"
        }
      ]
    },
    {
      "metadata": {
        "id": "AyPYTStY-5Q8",
        "colab_type": "code",
        "colab": {}
      },
      "cell_type": "code",
      "source": [
        ""
      ],
      "execution_count": 0,
      "outputs": []
    }
  ]
}