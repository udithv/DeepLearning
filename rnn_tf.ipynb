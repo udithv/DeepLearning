{
  "nbformat": 4,
  "nbformat_minor": 0,
  "metadata": {
    "colab": {
      "name": "rnn_tf.ipynb",
      "version": "0.3.2",
      "provenance": [],
      "collapsed_sections": [],
      "include_colab_link": true
    },
    "kernelspec": {
      "name": "python3",
      "display_name": "Python 3"
    }
  },
  "cells": [
    {
      "cell_type": "markdown",
      "metadata": {
        "id": "view-in-github",
        "colab_type": "text"
      },
      "source": [
        "[View in Colaboratory](https://colab.research.google.com/github/udithv/DeepLearning/blob/master/rnn_tf.ipynb)"
      ]
    },
    {
      "metadata": {
        "id": "OG-HHrbhDJkE",
        "colab_type": "text"
      },
      "cell_type": "markdown",
      "source": [
        "#RNN"
      ]
    },
    {
      "metadata": {
        "id": "SDW3YXcIET7U",
        "colab_type": "code",
        "colab": {}
      },
      "cell_type": "code",
      "source": [
        "import numpy as np\n",
        "import tensorflow as tf\n",
        "import matplotlib.pyplot as plt\n",
        "\n",
        "%matplotlib inline\n",
        "\n"
      ],
      "execution_count": 0,
      "outputs": []
    },
    {
      "metadata": {
        "id": "KxzDNFusHu1w",
        "colab_type": "code",
        "colab": {
          "base_uri": "https://localhost:8080/",
          "height": 51
        },
        "outputId": "6d11cad6-ec84-4f9a-af88-27c49730b6a0"
      },
      "cell_type": "code",
      "source": [
        "np.random.rand(2, 5)"
      ],
      "execution_count": 2,
      "outputs": [
        {
          "output_type": "execute_result",
          "data": {
            "text/plain": [
              "array([[0.14318308, 0.25371817, 0.87518775, 0.8901737 , 0.11780776],\n",
              "       [0.14102631, 0.838959  , 0.70328238, 0.46309397, 0.24994617]])"
            ]
          },
          "metadata": {
            "tags": []
          },
          "execution_count": 2
        }
      ]
    },
    {
      "metadata": {
        "id": "zUjD7qqMEbjD",
        "colab_type": "code",
        "colab": {}
      },
      "cell_type": "code",
      "source": [
        "class TimeSeriesData():\n",
        "  \n",
        "  def __init__(self, num_points, xmin, xmax):\n",
        "    \n",
        "    self.xmin = xmin\n",
        "    self.xmax = xmax\n",
        "    self.num_points = num_points\n",
        "    self.resolution = (xmax - xmin) / num_points\n",
        "    self.x_data = np.linspace(xmin, xmax, num_points)\n",
        "    self.y_true = np.sin(self.x_data)\n",
        "    \n",
        "  \n",
        "  def ret_true(self, x_series):\n",
        "      return np.sin(x_series)\n",
        "  \n",
        "  def next_batch(self, batch_size, steps, return_batch_ts=False):\n",
        "    \n",
        "    # Grab a random starting point  for each batch of data\n",
        "    rand_start = np.random.rand(batch_size, 1)\n",
        "    \n",
        "    \n",
        "    # Convert to be on time series\n",
        "    ts_start = rand_start * (self.xmax - self.xmin - (steps*self.resolution))\n",
        "    \n",
        "    \n",
        "    # Create a batch time series on the  x axis\n",
        "    batch_ts = ts_start + np.arange(0.0, steps+1) * self.resolution\n",
        "    \n",
        "    \n",
        "    # Create the Y data for the time series x axis from previous step\n",
        "    y_batch = np.sin(batch_ts)\n",
        "    \n",
        "    # Formatting it for the recurrent neural network\n",
        "    if return_batch_ts:\n",
        "      return y_batch[:, :-1].reshape(-1, steps, 1), y_batch[:, 1:].reshape(-1, steps, 1), batch_ts\n",
        "    else:\n",
        "      return y_batch[:, :-1].reshape(-1, steps, 1), y_batch[:, 1:].reshape(-1, steps, 1)\n",
        "     "
      ],
      "execution_count": 0,
      "outputs": []
    },
    {
      "metadata": {
        "id": "avaYapfXJ_2f",
        "colab_type": "code",
        "colab": {}
      },
      "cell_type": "code",
      "source": [
        "ts_data = TimeSeriesData(250, 0, 10)"
      ],
      "execution_count": 0,
      "outputs": []
    },
    {
      "metadata": {
        "id": "RGF7p_-oKMYL",
        "colab_type": "code",
        "colab": {
          "base_uri": "https://localhost:8080/",
          "height": 282
        },
        "outputId": "2f2e9fe4-db9b-49e8-9698-78cb5044723c"
      },
      "cell_type": "code",
      "source": [
        "plt.plot(ts_data.x_data, ts_data.y_true)"
      ],
      "execution_count": 5,
      "outputs": [
        {
          "output_type": "execute_result",
          "data": {
            "text/plain": [
              "[<matplotlib.lines.Line2D at 0x7f00a4ce73c8>]"
            ]
          },
          "metadata": {
            "tags": []
          },
          "execution_count": 5
        },
        {
          "output_type": "display_data",
          "data": {
            "image/png": "[encoded data removed]",
            "text/plain": [
              "<matplotlib.figure.Figure at 0x7f00b01ddbe0>"
            ]
          },
          "metadata": {
            "tags": []
          }
        }
      ]
    },
    {
      "metadata": {
        "id": "hS7RQqBXKTsh",
        "colab_type": "code",
        "colab": {}
      },
      "cell_type": "code",
      "source": [
        "num_time_steps = 30"
      ],
      "execution_count": 0,
      "outputs": []
    },
    {
      "metadata": {
        "id": "re4eoUr5cNkP",
        "colab_type": "code",
        "colab": {}
      },
      "cell_type": "code",
      "source": [
        "y1, y2, ts = ts_data.next_batch(1, num_time_steps, True)"
      ],
      "execution_count": 0,
      "outputs": []
    },
    {
      "metadata": {
        "id": "AWVoJ3z1cVx9",
        "colab_type": "code",
        "colab": {
          "base_uri": "https://localhost:8080/",
          "height": 136
        },
        "outputId": "38ac6545-3881-48ab-f0ca-0c52cb4d20ca"
      },
      "cell_type": "code",
      "source": [
        " ts"
      ],
      "execution_count": 8,
      "outputs": [
        {
          "output_type": "execute_result",
          "data": {
            "text/plain": [
              "array([[6.10894537, 6.14894537, 6.18894537, 6.22894537, 6.26894537,\n",
              "        6.30894537, 6.34894537, 6.38894537, 6.42894537, 6.46894537,\n",
              "        6.50894537, 6.54894537, 6.58894537, 6.62894537, 6.66894537,\n",
              "        6.70894537, 6.74894537, 6.78894537, 6.82894537, 6.86894537,\n",
              "        6.90894537, 6.94894537, 6.98894537, 7.02894537, 7.06894537,\n",
              "        7.10894537, 7.14894537, 7.18894537, 7.22894537, 7.26894537,\n",
              "        7.30894537]])"
            ]
          },
          "metadata": {
            "tags": []
          },
          "execution_count": 8
        }
      ]
    },
    {
      "metadata": {
        "id": "TN4hKKHIcn_p",
        "colab_type": "code",
        "colab": {
          "base_uri": "https://localhost:8080/",
          "height": 34
        },
        "outputId": "dc0199f9-601b-4d8b-eb62-5a937b6531ab"
      },
      "cell_type": "code",
      "source": [
        "ts.shape "
      ],
      "execution_count": 9,
      "outputs": [
        {
          "output_type": "execute_result",
          "data": {
            "text/plain": [
              "(1, 31)"
            ]
          },
          "metadata": {
            "tags": []
          },
          "execution_count": 9
        }
      ]
    },
    {
      "metadata": {
        "id": "iT2Tmta0cpxR",
        "colab_type": "code",
        "colab": {
          "base_uri": "https://localhost:8080/",
          "height": 34
        },
        "outputId": "feedd0d8-c959-4a90-dd1c-5c4044f5ed6a"
      },
      "cell_type": "code",
      "source": [
        "y1.shape"
      ],
      "execution_count": 10,
      "outputs": [
        {
          "output_type": "execute_result",
          "data": {
            "text/plain": [
              "(1, 30, 1)"
            ]
          },
          "metadata": {
            "tags": []
          },
          "execution_count": 10
        }
      ]
    },
    {
      "metadata": {
        "id": "M5GJzDKTdCiu",
        "colab_type": "code",
        "colab": {
          "base_uri": "https://localhost:8080/",
          "height": 34
        },
        "outputId": "1c8e39a7-820a-45ff-969e-6562855c72c1"
      },
      "cell_type": "code",
      "source": [
        "np.array([[[32, 42], [23,45]]]).shape\n"
      ],
      "execution_count": 11,
      "outputs": [
        {
          "output_type": "execute_result",
          "data": {
            "text/plain": [
              "(1, 2, 2)"
            ]
          },
          "metadata": {
            "tags": []
          },
          "execution_count": 11
        }
      ]
    },
    {
      "metadata": {
        "id": "zUYd7uH2dKJa",
        "colab_type": "code",
        "colab": {
          "base_uri": "https://localhost:8080/",
          "height": 282
        },
        "outputId": "a5a91931-ba40-4ef0-b69d-54d267abf1b3"
      },
      "cell_type": "code",
      "source": [
        "# To plt it you have to flatten it\n",
        "plt.plot(ts.flatten()[1:], y2.flatten(), '*')"
      ],
      "execution_count": 12,
      "outputs": [
        {
          "output_type": "execute_result",
          "data": {
            "text/plain": [
              "[<matplotlib.lines.Line2D at 0x7f00a247f908>]"
            ]
          },
          "metadata": {
            "tags": []
          },
          "execution_count": 12
        },
        {
          "output_type": "display_data",
          "data": {
            "image/png": "[encoded data removed]",
            "text/plain": [
              "<matplotlib.figure.Figure at 0x7f00a4d22cc0>"
            ]
          },
          "metadata": {
            "tags": []
          }
        }
      ]
    },
    {
      "metadata": {
        "id": "i1h55zPPey2q",
        "colab_type": "code",
        "colab": {
          "base_uri": "https://localhost:8080/",
          "height": 314
        },
        "outputId": "bc51b61f-d4f3-4b03-c556-e537fe0e958b"
      },
      "cell_type": "code",
      "source": [
        "plt.plot(ts_data.x_data, ts_data.y_true, label='Sin(t)')\n",
        "plt.plot(ts.flatten()[1:], y2.flatten(), '*', label='Signal Training Instance')\n",
        "plt.tight_layout()\n",
        "plt.legend()"
      ],
      "execution_count": 13,
      "outputs": [
        {
          "output_type": "execute_result",
          "data": {
            "text/plain": [
              "<matplotlib.legend.Legend at 0x7f00a23eeb00>"
            ]
          },
          "metadata": {
            "tags": []
          },
          "execution_count": 13
        },
        {
          "output_type": "display_data",
          "data": {
            "image/png": "[encoded data removed]",
            "text/plain": [
              "<matplotlib.figure.Figure at 0x7f00a247f048>"
            ]
          },
          "metadata": {
            "tags": []
          }
        }
      ]
    },
    {
      "metadata": {
        "id": "XWoHE0kAfRAh",
        "colab_type": "text"
      },
      "cell_type": "markdown",
      "source": [
        "# TRAINING DATA"
      ]
    },
    {
      "metadata": {
        "id": "YxJ5WCMtfrAx",
        "colab_type": "code",
        "colab": {}
      },
      "cell_type": "code",
      "source": [
        "train_inst = np.linspace(5, 5 + ts_data.resolution*(num_time_steps+1), num_time_steps+1)"
      ],
      "execution_count": 0,
      "outputs": []
    },
    {
      "metadata": {
        "id": "Bea1WbIof-yM",
        "colab_type": "code",
        "colab": {
          "base_uri": "https://localhost:8080/",
          "height": 136
        },
        "outputId": "e35fc879-bb1b-49dc-853e-4443c51720d8"
      },
      "cell_type": "code",
      "source": [
        "train_inst"
      ],
      "execution_count": 15,
      "outputs": [
        {
          "output_type": "execute_result",
          "data": {
            "text/plain": [
              "array([5.        , 5.04133333, 5.08266667, 5.124     , 5.16533333,\n",
              "       5.20666667, 5.248     , 5.28933333, 5.33066667, 5.372     ,\n",
              "       5.41333333, 5.45466667, 5.496     , 5.53733333, 5.57866667,\n",
              "       5.62      , 5.66133333, 5.70266667, 5.744     , 5.78533333,\n",
              "       5.82666667, 5.868     , 5.90933333, 5.95066667, 5.992     ,\n",
              "       6.03333333, 6.07466667, 6.116     , 6.15733333, 6.19866667,\n",
              "       6.24      ])"
            ]
          },
          "metadata": {
            "tags": []
          },
          "execution_count": 15
        }
      ]
    },
    {
      "metadata": {
        "id": "Cfg_GK05f_jx",
        "colab_type": "code",
        "colab": {
          "base_uri": "https://localhost:8080/",
          "height": 34
        },
        "outputId": "0d85c3e3-51ff-43e8-b836-86dfa055fa4d"
      },
      "cell_type": "code",
      "source": [
        "train_inst.shape"
      ],
      "execution_count": 16,
      "outputs": [
        {
          "output_type": "execute_result",
          "data": {
            "text/plain": [
              "(31,)"
            ]
          },
          "metadata": {
            "tags": []
          },
          "execution_count": 16
        }
      ]
    },
    {
      "metadata": {
        "id": "yNFO3L2BgDlK",
        "colab_type": "code",
        "colab": {
          "base_uri": "https://localhost:8080/",
          "height": 297
        },
        "outputId": "de384c8d-7463-4eb5-cf69-e2e43edcc94b"
      },
      "cell_type": "code",
      "source": [
        "plt.title('A TRAINING INSTANCE')\n",
        "\n",
        "plt.plot(train_inst[:-1], ts_data.ret_true(train_inst[:-1]), 'bo', markersize=15, alpha=0.5, label='INSTANCE')\n",
        "\n",
        "plt.plot(train_inst[1:], ts_data.ret_true(train_inst[1:]), 'ko', markersize=7, label='TARGET')\n",
        "\n",
        "plt.legend()"
      ],
      "execution_count": 17,
      "outputs": [
        {
          "output_type": "execute_result",
          "data": {
            "text/plain": [
              "<matplotlib.legend.Legend at 0x7f00a236fba8>"
            ]
          },
          "metadata": {
            "tags": []
          },
          "execution_count": 17
        },
        {
          "output_type": "display_data",
          "data": {
            "image/png": "[encoded data removed]",
            "text/plain": [
              "<matplotlib.figure.Figure at 0x7f00a23ee4a8>"
            ]
          },
          "metadata": {
            "tags": []
          }
        }
      ]
    },
    {
      "metadata": {
        "id": "DsMxJlUAjLg3",
        "colab_type": "text"
      },
      "cell_type": "markdown",
      "source": [
        "# CREATING THE MODEL"
      ]
    },
    {
      "metadata": {
        "id": "9oTg5g5HjQRN",
        "colab_type": "code",
        "colab": {}
      },
      "cell_type": "code",
      "source": [
        "tf.reset_default_graph()"
      ],
      "execution_count": 0,
      "outputs": []
    },
    {
      "metadata": {
        "id": "iVoBxbQ9jZCb",
        "colab_type": "code",
        "colab": {}
      },
      "cell_type": "code",
      "source": [
        "num_inputs = 1\n",
        "\n"
      ],
      "execution_count": 0,
      "outputs": []
    },
    {
      "metadata": {
        "id": "TYw0pSBdjg88",
        "colab_type": "code",
        "colab": {}
      },
      "cell_type": "code",
      "source": [
        "num_neurons = 100"
      ],
      "execution_count": 0,
      "outputs": []
    },
    {
      "metadata": {
        "id": "32y3yv6vjjxx",
        "colab_type": "code",
        "colab": {}
      },
      "cell_type": "code",
      "source": [
        "num_outputs = 1"
      ],
      "execution_count": 0,
      "outputs": []
    },
    {
      "metadata": {
        "id": "LYfBQTYljoYy",
        "colab_type": "code",
        "colab": {}
      },
      "cell_type": "code",
      "source": [
        "learning_rate = 0.0001"
      ],
      "execution_count": 0,
      "outputs": []
    },
    {
      "metadata": {
        "id": "0ScdQtBUjsks",
        "colab_type": "code",
        "colab": {}
      },
      "cell_type": "code",
      "source": [
        "num_train_iterations = 2000"
      ],
      "execution_count": 0,
      "outputs": []
    },
    {
      "metadata": {
        "id": "Zr83uRiOjxEo",
        "colab_type": "code",
        "colab": {}
      },
      "cell_type": "code",
      "source": [
        "batch_size = 1"
      ],
      "execution_count": 0,
      "outputs": []
    },
    {
      "metadata": {
        "id": "LJzdKB1Njz_M",
        "colab_type": "text"
      },
      "cell_type": "markdown",
      "source": [
        "#PLACEHOLDER\n"
      ]
    },
    {
      "metadata": {
        "id": "3V0w0ND7j4u8",
        "colab_type": "code",
        "colab": {}
      },
      "cell_type": "code",
      "source": [
        "X = tf.placeholder(tf.float32, [None, num_time_steps, num_inputs])"
      ],
      "execution_count": 0,
      "outputs": []
    },
    {
      "metadata": {
        "id": "wOpCPLGpkD0x",
        "colab_type": "code",
        "colab": {}
      },
      "cell_type": "code",
      "source": [
        "y = tf.placeholder(tf.float32, [None, num_time_steps, num_outputs])"
      ],
      "execution_count": 0,
      "outputs": []
    },
    {
      "metadata": {
        "id": "RB6xZDT7kOQe",
        "colab_type": "text"
      },
      "cell_type": "markdown",
      "source": [
        "## RNN CELL LAYER"
      ]
    },
    {
      "metadata": {
        "id": "OOA7sCilkaGD",
        "colab_type": "code",
        "colab": {}
      },
      "cell_type": "code",
      "source": [
        "\n",
        "cell = tf.contrib.rnn.OutputProjectionWrapper(tf.contrib.rnn.BasicRNNCell(num_units=num_neurons, activation=tf.nn.relu), output_size=num_outputs)"
      ],
      "execution_count": 0,
      "outputs": []
    },
    {
      "metadata": {
        "id": "5RLsf2jDlL7-",
        "colab_type": "code",
        "colab": {}
      },
      "cell_type": "code",
      "source": [
        "outputs, states = tf.nn.dynamic_rnn(cell, X,dtype=tf.float32)"
      ],
      "execution_count": 0,
      "outputs": []
    },
    {
      "metadata": {
        "id": "kxzOJWytSEU2",
        "colab_type": "code",
        "colab": {}
      },
      "cell_type": "code",
      "source": [
        "# MEAN SQUARED ERROR\n",
        "\n",
        "loss = tf.reduce_mean(tf.square(outputs-y))\n"
      ],
      "execution_count": 0,
      "outputs": []
    },
    {
      "metadata": {
        "id": "cSXpKhBESSpc",
        "colab_type": "code",
        "colab": {}
      },
      "cell_type": "code",
      "source": [
        "optimizer = tf.train.AdamOptimizer(learning_rate=learning_rate)"
      ],
      "execution_count": 0,
      "outputs": []
    },
    {
      "metadata": {
        "id": "PCjOKn0imZRF",
        "colab_type": "code",
        "colab": {}
      },
      "cell_type": "code",
      "source": [
        "train = optimizer.minimize(loss)"
      ],
      "execution_count": 0,
      "outputs": []
    },
    {
      "metadata": {
        "id": "D4dJ2IV3SebY",
        "colab_type": "code",
        "colab": {}
      },
      "cell_type": "code",
      "source": [
        "init = tf.global_variables_initializer()"
      ],
      "execution_count": 0,
      "outputs": []
    },
    {
      "metadata": {
        "id": "uZwYqyFsSs4U",
        "colab_type": "code",
        "colab": {}
      },
      "cell_type": "code",
      "source": [
        "#gpu_options = tf.GPUOptions(per_process_gpu_memory_fraction=0.75)"
      ],
      "execution_count": 0,
      "outputs": []
    },
    {
      "metadata": {
        "id": "ilUMRZphShbx",
        "colab_type": "code",
        "colab": {}
      },
      "cell_type": "code",
      "source": [
        "saver = tf.train.Saver()\n",
        "  "
      ],
      "execution_count": 0,
      "outputs": []
    },
    {
      "metadata": {
        "id": "zH9TUw0xTDro",
        "colab_type": "code",
        "colab": {
          "base_uri": "https://localhost:8080/",
          "height": 357
        },
        "outputId": "f4e28837-5040-4f8b-f5b5-92d5b45dda6d"
      },
      "cell_type": "code",
      "source": [
        "with tf.Session() as sess:\n",
        "  \n",
        "  sess.run(init)\n",
        "  \n",
        "  for iteration in range(num_train_iterations):\n",
        "    \n",
        "    \n",
        "    X_batch, y_batch = ts_data.next_batch(batch_size, num_time_steps)\n",
        "    \n",
        "    sess.run(train, feed_dict={X: X_batch, y:y_batch})\n",
        "    \n",
        "    if iteration % 100 == 0:\n",
        "      \n",
        "      \n",
        "      mse = loss.eval(feed_dict={X:X_batch, y:y_batch})\n",
        "      \n",
        "      print(iteration, \"\\t MSE: \", mse)\n",
        "  \n",
        "  saver.save(sess, \"./rnn_time_series_model_codealong\")\n",
        "  "
      ],
      "execution_count": 35,
      "outputs": [
        {
          "output_type": "stream",
          "text": [
            "0 \t MSE:  0.13654783\n",
            "100 \t MSE:  0.059156716\n",
            "200 \t MSE:  0.013028442\n",
            "300 \t MSE:  0.018538913\n",
            "400 \t MSE:  0.0070457147\n",
            "500 \t MSE:  0.024459183\n",
            "600 \t MSE:  0.0031943473\n",
            "700 \t MSE:  0.024094108\n",
            "800 \t MSE:  0.039293896\n",
            "900 \t MSE:  0.0063056545\n",
            "1000 \t MSE:  0.01675303\n",
            "1100 \t MSE:  0.0043518227\n",
            "1200 \t MSE:  0.00039381732\n",
            "1300 \t MSE:  0.006222415\n",
            "1400 \t MSE:  0.0046364088\n",
            "1500 \t MSE:  0.0008778364\n",
            "1600 \t MSE:  0.01846873\n",
            "1700 \t MSE:  0.010317477\n",
            "1800 \t MSE:  0.019600563\n",
            "1900 \t MSE:  0.015975894\n"
          ],
          "name": "stdout"
        }
      ]
    },
    {
      "metadata": {
        "id": "n-58Sbx0UMbn",
        "colab_type": "code",
        "colab": {
          "base_uri": "https://localhost:8080/",
          "height": 34
        },
        "outputId": "34329e67-9a87-4047-bd93-d7a73910a7a7"
      },
      "cell_type": "code",
      "source": [
        "with tf.Session() as sess:\n",
        "  \n",
        "  \n",
        "  saver.restore(sess, \"./rnn_time_series_model_codealong\")\n",
        "  \n",
        "  \n",
        "  X_new = np.sin(np.array(train_inst[1:].reshape(-1, num_time_steps, num_inputs)))\n",
        "  \n",
        "  y_pred = sess.run(outputs, feed_dict={X: X_new})"
      ],
      "execution_count": 36,
      "outputs": [
        {
          "output_type": "stream",
          "text": [
            "INFO:tensorflow:Restoring parameters from ./rnn_time_series_model_codealong\n"
          ],
          "name": "stdout"
        }
      ]
    },
    {
      "metadata": {
        "id": "iD7hJdEIVDcb",
        "colab_type": "code",
        "colab": {
          "base_uri": "https://localhost:8080/",
          "height": 297
        },
        "outputId": "4e488e91-04e5-4337-d7ba-3a59547706ab"
      },
      "cell_type": "code",
      "source": [
        "plt.title(\"TESTING THE MODEL\")\n",
        "\n",
        "# TRAINING INSTANCE\n",
        "plt.plot(train_inst[:-1], np.sin(train_inst[:-1]), \"bo\", markersize=15, alpha=0.5, label=\"TRAINING INST\")\n",
        "\n",
        "\n",
        "# TARGET TO  PREDICT (CORRECT TEST VALUES NPSIN(TRAIN))\n",
        "plt.plot(train_inst[1:], np.sin(train_inst[1:]), \"ko\", markersize=10, label=\"target\")\n",
        "\n",
        "# MODELS PREDICTION\n",
        "\n",
        "plt.plot(train_inst[1:], y_pred[0, :,0], 'r.', markersize=10, label=\"PREDICTIONS\")\n",
        "\n",
        "plt.xlabel('TIME')\n",
        "plt.legend()\n",
        "plt.tight_layout()"
      ],
      "execution_count": 37,
      "outputs": [
        {
          "output_type": "display_data",
          "data": {
            "image/png": "[encoded data removed]",
            "text/plain": [
              "<matplotlib.figure.Figure at 0x7f009dbc2a20>"
            ]
          },
          "metadata": {
            "tags": []
          }
        }
      ]
    },
    {
      "metadata": {
        "id": "NtI3o40WWlr2",
        "colab_type": "text"
      },
      "cell_type": "markdown",
      "source": [
        "##Generating new sequences"
      ]
    },
    {
      "metadata": {
        "id": "lI5Yg_bCodCv",
        "colab_type": "code",
        "colab": {
          "base_uri": "https://localhost:8080/",
          "height": 34
        },
        "outputId": "64785134-f730-4f5f-f8f8-6c71592da29f"
      },
      "cell_type": "code",
      "source": [
        "with tf.Session() as sess:\n",
        "  \n",
        "  saver.restore(sess, \"./rnn_time_series_model_codealong\")\n",
        "  \n",
        "  #SEED ZEROS\n",
        "  zero_seq_seed = [0.0 for i in range(num_time_steps)]\n",
        "  \n",
        "  for iteration in range(len(ts_data.x_data) - num_time_steps):\n",
        "    \n",
        "    X_batch = np.array(zero_seq_seed[-num_time_steps:]).reshape(1, num_time_steps, 1)\n",
        "    \n",
        "    y_pred = sess.run(outputs, feed_dict={X: X_batch})\n",
        "    \n",
        "    zero_seq_seed.append(y_pred[0, -1, 0])"
      ],
      "execution_count": 41,
      "outputs": [
        {
          "output_type": "stream",
          "text": [
            "INFO:tensorflow:Restoring parameters from ./rnn_time_series_model_codealong\n"
          ],
          "name": "stdout"
        }
      ]
    },
    {
      "metadata": {
        "id": "6N0KRQocqWXz",
        "colab_type": "code",
        "colab": {
          "base_uri": "https://localhost:8080/",
          "height": 296
        },
        "outputId": "e36e82f2-4781-4249-9aca-c5e638cc3c4b"
      },
      "cell_type": "code",
      "source": [
        "plt.plot(ts_data.x_data, zero_seq_seed, 'b-')\n",
        "plt.plot(ts_data.x_data[:num_time_steps], zero_seq_seed[:num_time_steps],'r', linewidth=3)\n",
        "plt.xlabel('TIME')\n",
        "plt.ylabel('Y')"
      ],
      "execution_count": 45,
      "outputs": [
        {
          "output_type": "execute_result",
          "data": {
            "text/plain": [
              "Text(0,0.5,'Y')"
            ]
          },
          "metadata": {
            "tags": []
          },
          "execution_count": 45
        },
        {
          "output_type": "display_data",
          "data": {
            "image/png": "[encoded data removed]",
            "text/plain": [
              "<matplotlib.figure.Figure at 0x7f009bb50080>"
            ]
          },
          "metadata": {
            "tags": []
          }
        }
      ]
    },
    {
      "metadata": {
        "id": "zIlKCgAMuvWb",
        "colab_type": "code",
        "colab": {
          "base_uri": "https://localhost:8080/",
          "height": 34
        },
        "outputId": "4d886803-c403-4e64-9836-902fdc87fe21"
      },
      "cell_type": "code",
      "source": [
        "with tf.Session() as sess:\n",
        "  \n",
        "  saver.restore(sess, \"./rnn_time_series_model_codealong\")\n",
        "  \n",
        "  #SEED ZEROS\n",
        "  training_instance = list(ts_data.y_true[:30])\n",
        "  \n",
        "  for iteration in range(len(training_instance) - num_time_steps):\n",
        "    \n",
        "    X_batch = np.array(training_instance[-num_time_steps:]).reshape(1, num_time_steps, 1)\n",
        "    \n",
        "    y_pred = sess.run(outputs, feed_dict={X: X_batch})\n",
        "    \n",
        "    training_instance.append(y_pred[0, -1, 0])"
      ],
      "execution_count": 46,
      "outputs": [
        {
          "output_type": "stream",
          "text": [
            "INFO:tensorflow:Restoring parameters from ./rnn_time_series_model_codealong\n"
          ],
          "name": "stdout"
        }
      ]
    },
    {
      "metadata": {
        "id": "OZLEve4QvHFD",
        "colab_type": "code",
        "colab": {
          "base_uri": "https://localhost:8080/",
          "height": 296
        },
        "outputId": "fa56e6c8-4826-4675-bca1-644b8bc8d2a3"
      },
      "cell_type": "code",
      "source": [
        "plt.plot(ts_data.x_data,ts_data.y_true, 'b-')\n",
        "plt.plot(ts_data.x_data[:num_time_steps], training_instance[:num_time_steps],'r', linewidth=3)\n",
        "plt.xlabel('TIME')\n",
        "plt.ylabel('Y')"
      ],
      "execution_count": 48,
      "outputs": [
        {
          "output_type": "execute_result",
          "data": {
            "text/plain": [
              "Text(0,0.5,'Y')"
            ]
          },
          "metadata": {
            "tags": []
          },
          "execution_count": 48
        },
        {
          "output_type": "display_data",
          "data": {
            "image/png": "[encoded data removed]",
            "text/plain": [
              "<matplotlib.figure.Figure at 0x7f009ba0ff28>"
            ]
          },
          "metadata": {
            "tags": []
          }
        }
      ]
    }
  ]
}