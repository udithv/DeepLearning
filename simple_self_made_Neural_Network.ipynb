{
  "nbformat": 4,
  "nbformat_minor": 0,
  "metadata": {
    "colab": {
      "name": "simple_self_made_Neural Network.ipynb",
      "version": "0.3.2",
      "provenance": [],
      "collapsed_sections": [],
      "include_colab_link": true
    },
    "kernelspec": {
      "name": "python3",
      "display_name": "Python 3"
    },
    "accelerator": "GPU"
  },
  "cells": [
    {
      "cell_type": "markdown",
      "metadata": {
        "id": "view-in-github",
        "colab_type": "text"
      },
      "source": [
        "[View in Colaboratory](https://colab.research.google.com/github/udithv/DeepLearning/blob/master/simple_self_made_Neural_Network.ipynb)"
      ]
    },
    {
      "metadata": {
        "id": "vlMrykkE_uRf",
        "colab_type": "text"
      },
      "cell_type": "markdown",
      "source": [
        "#Manual Neural Network"
      ]
    },
    {
      "metadata": {
        "id": "WEK537EPTvuk",
        "colab_type": "code",
        "colab": {}
      },
      "cell_type": "code",
      "source": [
        "##Operation Class"
      ],
      "execution_count": 0,
      "outputs": []
    },
    {
      "metadata": {
        "id": "H9KoQbBKff42",
        "colab_type": "code",
        "colab": {}
      },
      "cell_type": "code",
      "source": [
        "class Operation():\n",
        "  \n",
        "  def __init__(self, input_nodes=[]):\n",
        "    \n",
        "    self.input_nodes = input_nodes\n",
        "    self.output_nodes = []\n",
        "    \n",
        "    for node in input_nodes:\n",
        "      node.output_nodes.append(self)\n",
        "      \n",
        "    _default_graph.operations.append(self)\n",
        "    \n",
        "    \n",
        "  \n",
        "  def compute(self):\n",
        "    pass"
      ],
      "execution_count": 0,
      "outputs": []
    },
    {
      "metadata": {
        "id": "9vt24qgtgIrz",
        "colab_type": "code",
        "colab": {}
      },
      "cell_type": "code",
      "source": [
        "class add(Operation):\n",
        "  def __init__(self, x, y):\n",
        "    super().__init__([x, y])\n",
        "  \n",
        "  def compute(self, x_var, y_var):\n",
        "    self.inputs = [x_var, y_var]\n",
        "    return x_var + y_var"
      ],
      "execution_count": 0,
      "outputs": []
    },
    {
      "metadata": {
        "id": "DPbMIGp0gqr_",
        "colab_type": "code",
        "colab": {}
      },
      "cell_type": "code",
      "source": [
        "class multiply(Operation):\n",
        "  def __init__(self, x, y):\n",
        "    super().__init__([x, y])\n",
        "  \n",
        "  def compute(self, x_var, y_var):\n",
        "    self.inputs = [x_var, y_var]\n",
        "    return x_var * y_var"
      ],
      "execution_count": 0,
      "outputs": []
    },
    {
      "metadata": {
        "id": "B4H6t3-egw0p",
        "colab_type": "code",
        "colab": {}
      },
      "cell_type": "code",
      "source": [
        "class matmul(Operation):\n",
        "  def __init__(self, x, y):\n",
        "    super().__init__([x, y])\n",
        "  \n",
        "  def compute(self, x_var, y_var):\n",
        "    self.inputs = [x_var, y_var]\n",
        "    return x_var.dot(y_var)"
      ],
      "execution_count": 0,
      "outputs": []
    },
    {
      "metadata": {
        "id": "CgPj0brDg8Jc",
        "colab_type": "code",
        "colab": {}
      },
      "cell_type": "code",
      "source": [
        "class Placeholder():\n",
        "  \n",
        "  def __init__(self):\n",
        "    \n",
        "    self.output_nodes = []\n",
        "    \n",
        "    _default_graph.placeholders.append(self)"
      ],
      "execution_count": 0,
      "outputs": []
    },
    {
      "metadata": {
        "id": "pe2LaBuFAzL-",
        "colab_type": "code",
        "colab": {}
      },
      "cell_type": "code",
      "source": [
        "class Variable():\n",
        "  \n",
        "  def __init__(self, initial_value=None):\n",
        "    \n",
        "    self.value = initial_value\n",
        "    self.output_nodes = []\n",
        "    \n",
        "    _default_graph.variables.append(self)"
      ],
      "execution_count": 0,
      "outputs": []
    },
    {
      "metadata": {
        "id": "fci1a2dmA2MV",
        "colab_type": "code",
        "colab": {}
      },
      "cell_type": "code",
      "source": [
        "class Graph():\n",
        "  \n",
        "  def __init__(self):\n",
        "    \n",
        "    self.operations = []\n",
        "    self.placeholders = []\n",
        "    self.variables = []\n",
        "    \n",
        "  def set_as_default(self):\n",
        "    \n",
        "    global _default_graph\n",
        "    \n",
        "    _default_graph = self"
      ],
      "execution_count": 0,
      "outputs": []
    },
    {
      "metadata": {
        "id": "sx1a9GJqJb8i",
        "colab_type": "text"
      },
      "cell_type": "markdown",
      "source": [
        "z  = Ax + b\n",
        "\n",
        "A = 10\n",
        "\n",
        "b = 1 \n",
        "\n",
        "\n",
        "z = 10x + 1"
      ]
    },
    {
      "metadata": {
        "id": "aObKOs7yJs6B",
        "colab_type": "code",
        "colab": {}
      },
      "cell_type": "code",
      "source": [
        "g = Graph()"
      ],
      "execution_count": 0,
      "outputs": []
    },
    {
      "metadata": {
        "id": "o0nh7FobJva1",
        "colab_type": "code",
        "colab": {}
      },
      "cell_type": "code",
      "source": [
        "g.set_as_default()"
      ],
      "execution_count": 0,
      "outputs": []
    },
    {
      "metadata": {
        "id": "WSSPaTjkJ9Ir",
        "colab_type": "code",
        "colab": {}
      },
      "cell_type": "code",
      "source": [
        "A = Variable(10)"
      ],
      "execution_count": 0,
      "outputs": []
    },
    {
      "metadata": {
        "id": "rYRFsNSxKAti",
        "colab_type": "code",
        "colab": {}
      },
      "cell_type": "code",
      "source": [
        "b = Variable(1)"
      ],
      "execution_count": 0,
      "outputs": []
    },
    {
      "metadata": {
        "id": "FlGVt71hKFst",
        "colab_type": "code",
        "colab": {}
      },
      "cell_type": "code",
      "source": [
        "x = Placeholder()"
      ],
      "execution_count": 0,
      "outputs": []
    },
    {
      "metadata": {
        "id": "vivXeyq3KJAW",
        "colab_type": "code",
        "colab": {}
      },
      "cell_type": "code",
      "source": [
        "y = multiply(A, x)"
      ],
      "execution_count": 0,
      "outputs": []
    },
    {
      "metadata": {
        "id": "u2taf-wNKP_k",
        "colab_type": "code",
        "colab": {}
      },
      "cell_type": "code",
      "source": [
        "z = add(y,b)"
      ],
      "execution_count": 0,
      "outputs": []
    },
    {
      "metadata": {
        "id": "YeJ8i9XbKTQ6",
        "colab_type": "text"
      },
      "cell_type": "markdown",
      "source": [
        "#Session"
      ]
    },
    {
      "metadata": {
        "id": "VLx0lPoSMt52",
        "colab_type": "code",
        "colab": {}
      },
      "cell_type": "code",
      "source": [
        "import numpy as np"
      ],
      "execution_count": 0,
      "outputs": []
    },
    {
      "metadata": {
        "id": "s9qfpL14MgZG",
        "colab_type": "text"
      },
      "cell_type": "markdown",
      "source": [
        "##Traversing Operation Nodes"
      ]
    },
    {
      "metadata": {
        "id": "k_hh27xbMwMZ",
        "colab_type": "code",
        "colab": {}
      },
      "cell_type": "code",
      "source": [
        "def traverse_postorder(operation):\n",
        "    \"\"\" \n",
        "    PostOrder Traversal of Nodes. Basically makes sure computations are done in \n",
        "    the correct order (Ax first , then Ax + b). Feel free to copy and paste this code.\n",
        "    It is not super important for understanding the basic fundamentals of deep learning.\n",
        "    \"\"\"\n",
        " \n",
        "    nodes_postorder = []\n",
        "    def recurse(node):\n",
        "        if isinstance(node, Operation):\n",
        "            for input_node in node.input_nodes:\n",
        "                recurse(input_node)\n",
        "        nodes_postorder.append(node)\n",
        "\n",
        "    recurse(operation)\n",
        "    return nodes_postorder"
      ],
      "execution_count": 0,
      "outputs": []
    },
    {
      "metadata": {
        "id": "HCcPUHM_rfx_",
        "colab_type": "code",
        "colab": {
          "base_uri": "https://localhost:8080/",
          "height": 107
        },
        "outputId": "e8051744-73f6-4b5a-fb2c-b4de48d51c75"
      },
      "cell_type": "code",
      "source": [
        "traverse_postorder(z)"
      ],
      "execution_count": 0,
      "outputs": [
        {
          "output_type": "execute_result",
          "data": {
            "text/plain": [
              "[<__main__.Variable at 0x7f42f2acfb70>,\n",
              " <__main__.Placeholder at 0x7f42f2acfac8>,\n",
              " <__main__.multiply at 0x7f42f2acff28>,\n",
              " <__main__.Variable at 0x7f42f2acf860>,\n",
              " <__main__.add at 0x7f42f2acfb00>]"
            ]
          },
          "metadata": {
            "tags": []
          },
          "execution_count": 18
        }
      ]
    },
    {
      "metadata": {
        "id": "VvYhtfiKM-Qw",
        "colab_type": "code",
        "colab": {}
      },
      "cell_type": "code",
      "source": [
        "class Session():\n",
        "  \n",
        "  def run(self, operation, feed_dict={}):\n",
        "    \n",
        "    nodes_postorder = traverse_postorder(operation)\n",
        "    \n",
        "    for node in nodes_postorder:\n",
        "      \n",
        "      if type(node) == Placeholder:\n",
        "        node.output = feed_dict[node]\n",
        "      \n",
        "      elif type(node) == Variable:\n",
        "        \n",
        "        node.output = node.value\n",
        "        \n",
        "      else:\n",
        "        \n",
        "        node.inputs = [input_node.output for  input_node in node.input_nodes]\n",
        "        \n",
        "        node.output = node.compute(*node.inputs)\n",
        "      \n",
        "     \n",
        "      if type(node.output) == list:\n",
        "        node.output = np.array(node.output)\n",
        "      \n",
        "      \n",
        "    return operation.output"
      ],
      "execution_count": 0,
      "outputs": []
    },
    {
      "metadata": {
        "id": "zW_xnqPFNJcO",
        "colab_type": "code",
        "colab": {}
      },
      "cell_type": "code",
      "source": [
        "sess = Session()"
      ],
      "execution_count": 0,
      "outputs": []
    },
    {
      "metadata": {
        "id": "WYCvqut4PY8k",
        "colab_type": "code",
        "colab": {}
      },
      "cell_type": "code",
      "source": [
        "result = sess.run(operation=z, feed_dict={x:10})"
      ],
      "execution_count": 0,
      "outputs": []
    },
    {
      "metadata": {
        "id": "nx9yBCa9Pc59",
        "colab_type": "code",
        "colab": {
          "base_uri": "https://localhost:8080/",
          "height": 35
        },
        "outputId": "aba0dae9-778e-49e8-d1d6-fad28c86e74b"
      },
      "cell_type": "code",
      "source": [
        "result"
      ],
      "execution_count": 0,
      "outputs": [
        {
          "output_type": "execute_result",
          "data": {
            "text/plain": [
              "101"
            ]
          },
          "metadata": {
            "tags": []
          },
          "execution_count": 22
        }
      ]
    },
    {
      "metadata": {
        "id": "7CE-LDQAt5xO",
        "colab_type": "code",
        "colab": {}
      },
      "cell_type": "code",
      "source": [
        "g = Graph()"
      ],
      "execution_count": 0,
      "outputs": []
    },
    {
      "metadata": {
        "id": "Rxz4HMQ4wtCQ",
        "colab_type": "code",
        "colab": {}
      },
      "cell_type": "code",
      "source": [
        "g.set_as_default()"
      ],
      "execution_count": 0,
      "outputs": []
    },
    {
      "metadata": {
        "id": "50e7X2d6wwJ7",
        "colab_type": "code",
        "colab": {}
      },
      "cell_type": "code",
      "source": [
        "A = Variable([[10, 20], [30, 40]])\n",
        "b = Variable([1, 2])\n",
        "\n",
        "x = Placeholder()\n",
        "\n",
        "y = matmul(A, x)\n",
        "\n",
        "z = add(y, b)\n",
        "\n"
      ],
      "execution_count": 0,
      "outputs": []
    },
    {
      "metadata": {
        "id": "3WvVUxM7xPoZ",
        "colab_type": "code",
        "colab": {}
      },
      "cell_type": "code",
      "source": [
        "sess = Session()"
      ],
      "execution_count": 0,
      "outputs": []
    },
    {
      "metadata": {
        "id": "ryMVZDCxxS-k",
        "colab_type": "code",
        "colab": {
          "base_uri": "https://localhost:8080/",
          "height": 53
        },
        "outputId": "c67c645e-b940-4601-9681-7b4fa092bd6a"
      },
      "cell_type": "code",
      "source": [
        "sess.run(operation=z, feed_dict={x:10})"
      ],
      "execution_count": 0,
      "outputs": [
        {
          "output_type": "execute_result",
          "data": {
            "text/plain": [
              "array([[101, 202],\n",
              "       [301, 402]])"
            ]
          },
          "metadata": {
            "tags": []
          },
          "execution_count": 29
        }
      ]
    },
    {
      "metadata": {
        "id": "2Ezq6rHyxZhm",
        "colab_type": "text"
      },
      "cell_type": "markdown",
      "source": [
        "#Classification\n",
        "\n",
        "##Activation Function"
      ]
    },
    {
      "metadata": {
        "id": "VnuS9HQm2erV",
        "colab_type": "code",
        "colab": {}
      },
      "cell_type": "code",
      "source": [
        "import matplotlib.pyplot as plt\n",
        "%matplotlib inline\n"
      ],
      "execution_count": 0,
      "outputs": []
    },
    {
      "metadata": {
        "id": "JZvhuxQk2nSI",
        "colab_type": "code",
        "colab": {}
      },
      "cell_type": "code",
      "source": [
        "def sigmoid(z):\n",
        "  return 1 / (1 + np.exp(-z))"
      ],
      "execution_count": 0,
      "outputs": []
    },
    {
      "metadata": {
        "id": "-EriFz6r2w3R",
        "colab_type": "code",
        "colab": {}
      },
      "cell_type": "code",
      "source": [
        "sample_z = np.linspace(-10, 10, 100)\n",
        "sample_a = sigmoid(sample_z)"
      ],
      "execution_count": 0,
      "outputs": []
    },
    {
      "metadata": {
        "id": "fxtY3rxE281k",
        "colab_type": "code",
        "colab": {
          "base_uri": "https://localhost:8080/",
          "height": 283
        },
        "outputId": "1628d0b8-5963-4172-80e1-c43978aae429"
      },
      "cell_type": "code",
      "source": [
        "plt.plot(sample_z, sample_a)"
      ],
      "execution_count": 0,
      "outputs": [
        {
          "output_type": "execute_result",
          "data": {
            "text/plain": [
              "[<matplotlib.lines.Line2D at 0x7f42f2123d30>]"
            ]
          },
          "metadata": {
            "tags": []
          },
          "execution_count": 34
        },
        {
          "output_type": "display_data",
          "data": {
            "image/png": "[encoded data removed]",
            "text/plain": [
              "<matplotlib.figure.Figure at 0x7f42f21d2ef0>"
            ]
          },
          "metadata": {
            "tags": []
          }
        }
      ]
    },
    {
      "metadata": {
        "id": "zEs3H30Q3BWc",
        "colab_type": "code",
        "colab": {}
      },
      "cell_type": "code",
      "source": [
        "class Sigmoid(Operation):\n",
        "  \n",
        "  def __init__(self, z):\n",
        "    \n",
        "    super().__init__([z])\n",
        "    \n",
        "  def compute(self, z_val):\n",
        "    return 1 / (1 + np.exp(-z_val))"
      ],
      "execution_count": 0,
      "outputs": []
    },
    {
      "metadata": {
        "id": "FqIkG_B03g7A",
        "colab_type": "code",
        "colab": {}
      },
      "cell_type": "code",
      "source": [
        "from sklearn.datasets import make_blobs"
      ],
      "execution_count": 0,
      "outputs": []
    },
    {
      "metadata": {
        "id": "DQNBZCIV3mDN",
        "colab_type": "code",
        "colab": {
          "base_uri": "https://localhost:8080/",
          "height": 971
        },
        "outputId": "fe5b01f6-48ca-4ec2-9ead-0aafd65d9c56"
      },
      "cell_type": "code",
      "source": [
        "data = make_blobs(n_samples=50, n_features=2, centers=2, random_state=75)\n",
        "\n",
        "data"
      ],
      "execution_count": 0,
      "outputs": [
        {
          "output_type": "execute_result",
          "data": {
            "text/plain": [
              "(array([[  7.3402781 ,   9.36149154],\n",
              "        [  9.13332743,   8.74906102],\n",
              "        [  1.99243535,  -8.85885722],\n",
              "        [  7.38443759,   7.72520389],\n",
              "        [  7.97613887,   8.80878209],\n",
              "        [  7.76974352,   9.50899462],\n",
              "        [  8.3186688 ,  10.1026025 ],\n",
              "        [  8.79588546,   7.28046702],\n",
              "        [  9.81270381,   9.46968531],\n",
              "        [  1.57961049,  -8.17089971],\n",
              "        [  0.06441546,  -9.04982817],\n",
              "        [  7.2075117 ,   7.04533624],\n",
              "        [  9.10704928,   9.0272212 ],\n",
              "        [  1.82921897,  -9.86956281],\n",
              "        [  7.85036314,   7.986659  ],\n",
              "        [  3.04605603,  -7.50486114],\n",
              "        [  1.85582689,  -6.74473432],\n",
              "        [  2.88603902,  -8.85261704],\n",
              "        [ -1.20046211,  -9.55928542],\n",
              "        [  2.00890845,  -9.78471782],\n",
              "        [  7.68945113,   9.01706723],\n",
              "        [  6.42356167,   8.33356412],\n",
              "        [  8.15467319,   7.87489634],\n",
              "        [  1.92000795,  -7.50953708],\n",
              "        [  1.90073973,  -7.24386675],\n",
              "        [  7.7605855 ,   7.05124418],\n",
              "        [  6.90561582,   9.23493842],\n",
              "        [  0.65582768,  -9.5920878 ],\n",
              "        [  1.41804346,  -8.10517372],\n",
              "        [  9.65371965,   9.35409538],\n",
              "        [  1.23053506,  -7.98873571],\n",
              "        [  1.96322881,  -9.50169117],\n",
              "        [  6.11644251,   9.26709393],\n",
              "        [  7.70630321,  10.78862346],\n",
              "        [  0.79580385,  -9.00301023],\n",
              "        [  3.13114921,  -8.6849493 ],\n",
              "        [  1.3970852 ,  -7.25918415],\n",
              "        [  7.27808709,   7.15201886],\n",
              "        [  1.06965742,  -8.1648251 ],\n",
              "        [  6.37298915,   9.77705761],\n",
              "        [  7.24898455,   8.85834104],\n",
              "        [  2.09335725,  -7.66278316],\n",
              "        [  1.05865542,  -8.43841416],\n",
              "        [  6.43807502,   7.85483418],\n",
              "        [  6.94948313,   8.75248232],\n",
              "        [ -0.07326715, -11.69999644],\n",
              "        [  0.61463602,  -9.51908883],\n",
              "        [  1.31977821,  -7.2710667 ],\n",
              "        [  2.72532584,  -7.51956557],\n",
              "        [  8.20949206,  11.90419283]]),\n",
              " array([1, 1, 0, 1, 1, 1, 1, 1, 1, 0, 0, 1, 1, 0, 1, 0, 0, 0, 0, 0, 1, 1,\n",
              "        1, 0, 0, 1, 1, 0, 0, 1, 0, 0, 1, 1, 0, 0, 0, 1, 0, 1, 1, 0, 0, 1,\n",
              "        1, 0, 0, 0, 0, 1]))"
            ]
          },
          "metadata": {
            "tags": []
          },
          "execution_count": 40
        }
      ]
    },
    {
      "metadata": {
        "id": "dcxvl4FG34Tz",
        "colab_type": "code",
        "colab": {
          "base_uri": "https://localhost:8080/",
          "height": 35
        },
        "outputId": "f9b0211f-441e-410c-8779-2dc7c582f33c"
      },
      "cell_type": "code",
      "source": [
        "type(data)"
      ],
      "execution_count": 0,
      "outputs": [
        {
          "output_type": "execute_result",
          "data": {
            "text/plain": [
              "tuple"
            ]
          },
          "metadata": {
            "tags": []
          },
          "execution_count": 41
        }
      ]
    },
    {
      "metadata": {
        "id": "-AjXHGeH4KbK",
        "colab_type": "code",
        "colab": {
          "base_uri": "https://localhost:8080/",
          "height": 71
        },
        "outputId": "8f7988d7-04c1-4b5b-9bf1-7f669112f765"
      },
      "cell_type": "code",
      "source": [
        "data[1]"
      ],
      "execution_count": 0,
      "outputs": [
        {
          "output_type": "execute_result",
          "data": {
            "text/plain": [
              "array([1, 1, 0, 1, 1, 1, 1, 1, 1, 0, 0, 1, 1, 0, 1, 0, 0, 0, 0, 0, 1, 1,\n",
              "       1, 0, 0, 1, 1, 0, 0, 1, 0, 0, 1, 1, 0, 0, 0, 1, 0, 1, 1, 0, 0, 1,\n",
              "       1, 0, 0, 0, 0, 1])"
            ]
          },
          "metadata": {
            "tags": []
          },
          "execution_count": 42
        }
      ]
    },
    {
      "metadata": {
        "id": "KL6UOx8E4Mu0",
        "colab_type": "code",
        "colab": {}
      },
      "cell_type": "code",
      "source": [
        "features = data[0]\n",
        "labels = data[1]\n",
        "\n"
      ],
      "execution_count": 0,
      "outputs": []
    },
    {
      "metadata": {
        "id": "n0nFqCMh4Tqo",
        "colab_type": "code",
        "colab": {
          "base_uri": "https://localhost:8080/",
          "height": 283
        },
        "outputId": "73e5b9f9-445c-4002-a4b5-377929e036e1"
      },
      "cell_type": "code",
      "source": [
        "plt.scatter(features[:, 0], features[:, 1], c=labels, cmap='coolwarm')"
      ],
      "execution_count": 0,
      "outputs": [
        {
          "output_type": "execute_result",
          "data": {
            "text/plain": [
              "<matplotlib.collections.PathCollection at 0x7f42ee15dcc0>"
            ]
          },
          "metadata": {
            "tags": []
          },
          "execution_count": 46
        },
        {
          "output_type": "display_data",
          "data": {
            "image/png": "[encoded data removed]",
            "text/plain": [
              "<matplotlib.figure.Figure at 0x7f42ee200860>"
            ]
          },
          "metadata": {
            "tags": []
          }
        }
      ]
    },
    {
      "metadata": {
        "id": "dFI--6IR4bzF",
        "colab_type": "code",
        "colab": {
          "base_uri": "https://localhost:8080/",
          "height": 283
        },
        "outputId": "7758e98c-b568-47eb-be98-0d5f0b6f8a21"
      },
      "cell_type": "code",
      "source": [
        "x = np.linspace(0, 11, 10)\n",
        "\n",
        "y = -x + 5\n",
        "plt.scatter(features[:, 0], features[:, 1], c=labels, cmap='coolwarm')\n",
        "plt.plot(x, y)"
      ],
      "execution_count": 0,
      "outputs": [
        {
          "output_type": "execute_result",
          "data": {
            "text/plain": [
              "[<matplotlib.lines.Line2D at 0x7f42ee138ba8>]"
            ]
          },
          "metadata": {
            "tags": []
          },
          "execution_count": 48
        },
        {
          "output_type": "display_data",
          "data": {
            "image/png": "[encoded data removed]",
            "text/plain": [
              "<matplotlib.figure.Figure at 0x7f42ee138a20>"
            ]
          },
          "metadata": {
            "tags": []
          }
        }
      ]
    },
    {
      "metadata": {
        "id": "b9CM4v4c5Ki6",
        "colab_type": "code",
        "colab": {
          "base_uri": "https://localhost:8080/",
          "height": 35
        },
        "outputId": "ac40e495-7b6a-4f62-fe8d-1b15aeb29642"
      },
      "cell_type": "code",
      "source": [
        "np.array([1, 1]).dot(np.array([[8], [10]])) - 5"
      ],
      "execution_count": 0,
      "outputs": [
        {
          "output_type": "execute_result",
          "data": {
            "text/plain": [
              "array([13])"
            ]
          },
          "metadata": {
            "tags": []
          },
          "execution_count": 49
        }
      ]
    },
    {
      "metadata": {
        "id": "CGLdb5lU6wTZ",
        "colab_type": "code",
        "colab": {
          "base_uri": "https://localhost:8080/",
          "height": 35
        },
        "outputId": "0959aca0-c933-412f-e453-d0342320e0a2"
      },
      "cell_type": "code",
      "source": [
        "np.array([1, 1]).dot(np.array([[4], [-5]])) - 5"
      ],
      "execution_count": 0,
      "outputs": [
        {
          "output_type": "execute_result",
          "data": {
            "text/plain": [
              "array([-6])"
            ]
          },
          "metadata": {
            "tags": []
          },
          "execution_count": 50
        }
      ]
    },
    {
      "metadata": {
        "id": "EYihcqyA7Kyp",
        "colab_type": "code",
        "colab": {}
      },
      "cell_type": "code",
      "source": [
        "g = Graph()\n",
        "\n",
        "g.set_as_default()"
      ],
      "execution_count": 0,
      "outputs": []
    },
    {
      "metadata": {
        "id": "tRRUQYqk7PaU",
        "colab_type": "code",
        "colab": {}
      },
      "cell_type": "code",
      "source": [
        "x = Placeholder()"
      ],
      "execution_count": 0,
      "outputs": []
    },
    {
      "metadata": {
        "id": "GZ9Ydzbc7RAI",
        "colab_type": "code",
        "colab": {}
      },
      "cell_type": "code",
      "source": [
        "w = Variable([1, 1])"
      ],
      "execution_count": 0,
      "outputs": []
    },
    {
      "metadata": {
        "id": "lpYJJhui7U1A",
        "colab_type": "code",
        "colab": {}
      },
      "cell_type": "code",
      "source": [
        "b = Variable(-5)"
      ],
      "execution_count": 0,
      "outputs": []
    },
    {
      "metadata": {
        "id": "yOp_3aej7XOU",
        "colab_type": "code",
        "colab": {}
      },
      "cell_type": "code",
      "source": [
        "z = add(matmul(w, x), b)"
      ],
      "execution_count": 0,
      "outputs": []
    },
    {
      "metadata": {
        "id": "niy7MZKT7dHC",
        "colab_type": "code",
        "colab": {}
      },
      "cell_type": "code",
      "source": [
        "a = Sigmoid(z)"
      ],
      "execution_count": 0,
      "outputs": []
    },
    {
      "metadata": {
        "id": "3CP3p4KM7hap",
        "colab_type": "code",
        "colab": {}
      },
      "cell_type": "code",
      "source": [
        "sess = Session()\n"
      ],
      "execution_count": 0,
      "outputs": []
    },
    {
      "metadata": {
        "id": "9ccTWoOL7ttK",
        "colab_type": "code",
        "colab": {
          "base_uri": "https://localhost:8080/",
          "height": 35
        },
        "outputId": "2ddcce93-547f-46c6-cb1c-70f88474ea65"
      },
      "cell_type": "code",
      "source": [
        "sess.run(operation=a, feed_dict={x:[8, 10]})"
      ],
      "execution_count": 0,
      "outputs": [
        {
          "output_type": "execute_result",
          "data": {
            "text/plain": [
              "0.999997739675702"
            ]
          },
          "metadata": {
            "tags": []
          },
          "execution_count": 63
        }
      ]
    },
    {
      "metadata": {
        "id": "t2aAXpvQ8ZFv",
        "colab_type": "code",
        "colab": {
          "base_uri": "https://localhost:8080/",
          "height": 35
        },
        "outputId": "1585ce1b-84c4-4da4-adb0-5bf017825e00"
      },
      "cell_type": "code",
      "source": [
        "sess.run(operation=a, feed_dict={x:[2, -10]})"
      ],
      "execution_count": 0,
      "outputs": [
        {
          "output_type": "execute_result",
          "data": {
            "text/plain": [
              "2.2603242979035746e-06"
            ]
          },
          "metadata": {
            "tags": []
          },
          "execution_count": 64
        }
      ]
    }
  ]
}